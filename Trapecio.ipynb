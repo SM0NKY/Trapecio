{
 "cells": [
  {
   "cell_type": "markdown",
   "id": "dff24f99",
   "metadata": {},
   "source": [
    "# Método del Trapecio\n",
    "\n",
    "## Problema\n",
    "\n",
    "**Sea la funcion $f(x) = e^{-x^2}$. Se solicita calcular a través de un código la integral definida de esta función en el intervalo cerrado de  [0,2], Utilizando los siguientes métodos**"
   ]
  },
  {
   "cell_type": "markdown",
   "id": "9949b7b3",
   "metadata": {},
   "source": []
  },
  {
   "cell_type": "markdown",
   "id": "1e7cc6a7",
   "metadata": {},
   "source": [
    "## Procedimiento\n",
    "\n",
    "- Se definen los valores correspondientes, que son la función,  y el intervalo para poder gráficarlo "
   ]
  },
  {
   "cell_type": "code",
   "execution_count": 58,
   "id": "3aecfc1c",
   "metadata": {},
   "outputs": [],
   "source": [
    "import numpy as np\n",
    "import seaborn as sb\n",
    "import matplotlib.pyplot as plt\n",
    "from typing import Any,List, Optional\n",
    "from collections.abc import Callable\n",
    "from math import e\n",
    "from sympy import simplify,lambdify,symbols,exp,sympify, init_printing\n"
   ]
  },
  {
   "cell_type": "code",
   "execution_count": 59,
   "id": "9e8f2c30",
   "metadata": {},
   "outputs": [],
   "source": [
    "init_printing()\n",
    "funcion:str = sympify(\"exp(-x**2)\", locals = {\"exp\": exp})\n",
    "x = symbols('x')"
   ]
  },
  {
   "cell_type": "markdown",
   "id": "dcffa9cc",
   "metadata": {},
   "source": [
    "- Se grafica la función exponencial"
   ]
  },
  {
   "cell_type": "code",
   "execution_count": 60,
   "id": "4b222fde",
   "metadata": {},
   "outputs": [],
   "source": [
    "funcion_pevaluar = lambdify(x,funcion,\"numpy\")\n",
    "x_values = np.linspace(0,10,30)\n",
    "y_values = funcion_pevaluar(x_values)"
   ]
  },
  {
   "cell_type": "code",
   "execution_count": 61,
   "id": "a63a8d24",
   "metadata": {},
   "outputs": [
    {
     "data": {
      "image/png": "[encoded data removed]",
      "text/plain": [
       "<Figure size 640x480 with 1 Axes>"
      ]
     },
     "metadata": {},
     "output_type": "display_data"
    }
   ],
   "source": [
    "plt.plot(x_values,y_values, label=\"Funcion_exponencial\", color = \"k\")\n",
    "plt.axhline(0, color = \"black\", linewidth = 0.5)\n",
    "plt.axvline(0, color = \"blue\", linewidth = 0.5)\n",
    "\n",
    "plt.scatter(0,funcion.subs(x,0).evalf(), color = 'g', marker = '|', s = 100, label = \"x = 0\")\n",
    "plt.scatter(2,funcion.subs(x,2).evalf(), color = 'r', marker= 'x',s= 100, label = \"x = 2\")\n",
    "plt.axvline(2, color = \"blue\", linewidth = 0.5)\n",
    "\n",
    "plt.grid(True)\n",
    "plt.legend()\n",
    "plt.show()"
   ]
  },
  {
   "cell_type": "markdown",
   "id": "e49a6173",
   "metadata": {},
   "source": [
    "- Se realiza la función de la regla del trapecio simple utilizando la función de $I$\n",
    "\n",
    "## $I = (b-a) \\frac{f(a) + f(b)}{2}$"
   ]
  },
  {
   "cell_type": "code",
   "execution_count": null,
   "id": "924db0f7",
   "metadata": {},
   "outputs": [],
   "source": [
    "def trapecio_s(*intervalo) -> Optional[float]:\n",
    "    \"\"\" Esta funcion tiene un argumento de intervalo para poder calcular su trapecio simple\n",
    "\n",
    "    Parameters\n",
    "    ----------\n",
    "    `intervalo` : *args\n",
    "        Es el intervalo de donde se quiere obtener el área, [a,b]\n",
    "    \"\"\"\n",
    "    I = (intervalo[1] - intervalo[0]) * (funcion.subs(x, intervalo[1]).evalf() + funcion.subs(x,intervalo[0]).evalf()) * 0.5\n",
    "    return I"
   ]
  },
  {
   "cell_type": "markdown",
   "id": "e098f5a3",
   "metadata": {},
   "source": [
    "- Se llama a la función de trapecio simple para calcular el resultado"
   ]
  },
  {
   "cell_type": "code",
   "execution_count": null,
   "id": "5ca591f6",
   "metadata": {},
   "outputs": [
    {
     "data": {
      "image/png": "[encoded data removed]",
      "text/latex": [
       "$\\displaystyle 1.01831563888873$"
      ],
      "text/plain": [
       "1.01831563888873"
      ]
     },
     "execution_count": 64,
     "metadata": {},
     "output_type": "execute_result"
    }
   ],
   "source": [
    "trapecio_s(0,2)"
   ]
  },
  {
   "cell_type": "markdown",
   "id": "07019e20",
   "metadata": {},
   "source": [
    "- Se realiza la función del trapecio multiple $I$\n",
    "\n",
    "## $I = \\frac{h}{2}[f(x_{0}) + 2 \\sum_{\\substack{i=1} \\\\}^{n-1}{f(x_i) + f(x_n)} ]$\n",
    "\n",
    "## $h = \\frac{b-a}{2}$\n",
    "\n",
    "## $x_i = a + i*h$\n",
    "\n",
    "- En este caso el problema nos dice que $n = 5$"
   ]
  },
  {
   "cell_type": "code",
   "execution_count": 67,
   "id": "2eaffe6c",
   "metadata": {},
   "outputs": [],
   "source": [
    "def trapecio_m(*intervalo) -> Optional[float]:\n",
    "    \"\"\" Calcula el área dentro del intervalo utilizando el metodo del trapecio multiple\n",
    "\n",
    "    Parameters\n",
    "    ----------\n",
    "    `intervalo` : *args\n",
    "        Utilizando el intervalo calcula el área, [a,b]\n",
    "    \"\"\"\n",
    "    #Se define un arreglo para guardar y sumar los valores de la suma\n",
    "    sumatoria_valores:List[float|int] = []\n",
    "    \n",
    "    #Se define el valor de h\n",
    "    h = (intervalo[1] - intervalo[0])/5\n",
    "    xn = intervalo[0] + (5)*h\n",
    "    \n",
    "    #Se realiza el ciclo de las sumas donde xn es fijo, ya siempre es n\n",
    "    for i in range(5-1):\n",
    "        xi = intervalo[0] + (i+1)*h\n",
    "        sumatoria_valores.append(funcion.subs(x,xn).evalf() + funcion.subs(x,xi).evalf())\n",
    "    \n",
    "    #x0 = intervalo[0], por lo tanto se puede sustituir directamente en la formula \n",
    "\n",
    "    # Se define la funcion del área\n",
    "    I = (h/2)*(funcion.subs(x,intervalo[0]).evalf() + 2*sum(sumatoria_valores))\n",
    "\n",
    "    return I\n",
    "\n",
    "    "
   ]
  },
  {
   "cell_type": "markdown",
   "id": "65a58b84",
   "metadata": {},
   "source": [
    "- Se imprime el resultado obtenido"
   ]
  },
  {
   "cell_type": "code",
   "execution_count": 68,
   "id": "0a55a7e0",
   "metadata": {},
   "outputs": [
    {
     "data": {
      "image/png": "[encoded data removed]",
      "text/latex": [
       "$\\displaystyle 0.906772507075847$"
      ],
      "text/plain": [
       "0.906772507075847"
      ]
     },
     "execution_count": 68,
     "metadata": {},
     "output_type": "execute_result"
    }
   ],
   "source": [
    "trapecio_m(0,2)"
   ]
  }
 ],
 "metadata": {
  "kernelspec": {
   "display_name": "Python 3",
   "language": "python",
   "name": "python3"
  },
  "language_info": {
   "codemirror_mode": {
    "name": "ipython",
    "version": 3
   },
   "file_extension": ".py",
   "mimetype": "text/x-python",
   "name": "python",
   "nbconvert_exporter": "python",
   "pygments_lexer": "ipython3",
   "version": "3.13.1"
  }
 },
 "nbformat": 4,
 "nbformat_minor": 5
}
