{
 "cells": [
  {
   "cell_type": "markdown",
   "id": "dff24f99",
   "metadata": {},
   "source": [
    "# Método del Trapecio\n",
    "\n",
    "## Problema\n",
    "\n",
    "**Sea la funcion $f(x) = e^{-x^2}$. Se solicita calcular a través de un código de Matlab la integral definida de esta función en el intervalo cerrado de  [0,2]**"
   ]
  },
  {
   "cell_type": "markdown",
   "id": "1e7cc6a7",
   "metadata": {},
   "source": [
    "## Procedimiento\n",
    "\n",
    "- Se definen los valores correspondientes, que son la función,  y el intervalo para poder gráficarlo "
   ]
  },
  {
   "cell_type": "code",
   "execution_count": null,
   "id": "3aecfc1c",
   "metadata": {},
   "outputs": [],
   "source": [
    "import numpy as np\n",
    "import seaborn as sb\n",
    "import matplotlib.pyplot as plt\n",
    "from typing import Any,List\n",
    "from collections.abc import Callable\n",
    "from math import e\n",
    "from sympy import simplify,lambdify,symbols,exp\n"
   ]
  }
 ],
 "metadata": {
  "kernelspec": {
   "display_name": "Python 3",
   "language": "python",
   "name": "python3"
  },
  "language_info": {
   "name": "python",
   "version": "3.13.1"
  }
 },
 "nbformat": 4,
 "nbformat_minor": 5
}
